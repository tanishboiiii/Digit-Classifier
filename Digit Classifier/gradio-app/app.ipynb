{
  "nbformat": 4,
  "nbformat_minor": 0,
  "metadata": {
    "colab": {
      "provenance": []
    },
    "kernelspec": {
      "name": "python3",
      "display_name": "Python 3"
    },
    "language_info": {
      "name": "python"
    }
  },
  "cells": [
    {
      "cell_type": "markdown",
      "source": [
        "# Deploy model in web-app format using gradio Library\n"
      ],
      "metadata": {
        "id": "WnCrkmGxauNW"
      }
    },
    {
      "cell_type": "code",
      "execution_count": null,
      "metadata": {
        "id": "AyzhPphAakZZ"
      },
      "outputs": [],
      "source": [
        "import gradio as gr\n",
        "import tensorflow as tf\n",
        "new_model = tf.keras.models.load_model('my_model')\n",
        "\n",
        "def predict_image(img):\n",
        "    img = tf.keras.utils.normalize (img, axis=1)\n",
        "    img = np.array(img).reshape(-1, IMG_SIZE, IMG_SIZE, 1)\n",
        "    predictions = new_model.predict(img)\n",
        "    return int(np.argmax(predictions))\n",
        "\n",
        "gr.Interface(fn=predict_image, inputs=\"sketchpad\", outputs=\"label\").launch(share=True)\n"
      ]
    }
  ]
}